{
  "nbformat": 4,
  "nbformat_minor": 0,
  "metadata": {
    "colab": {
      "provenance": [],
      "gpuType": "T4",
      "authorship_tag": "ABX9TyN0vSMwywVk99N6X+YKtR0o",
      "include_colab_link": true
    },
    "kernelspec": {
      "name": "python3",
      "display_name": "Python 3"
    },
    "language_info": {
      "name": "python"
    },
    "accelerator": "GPU"
  },
  "cells": [
    {
      "cell_type": "markdown",
      "metadata": {
        "id": "view-in-github",
        "colab_type": "text"
      },
      "source": [
        "<a href=\"https://colab.research.google.com/github/prabhatu786/Assignment-two/blob/main/Assingment_two.ipynb\" target=\"_parent\"><img src=\"https://colab.research.google.com/assets/colab-badge.svg\" alt=\"Open In Colab\"/></a>"
      ]
    },
    {
      "cell_type": "markdown",
      "source": [
        "##1.What are the two values of the Boolean data type? How do you write them?\n",
        "\n",
        "\n",
        "\n",
        "Answer: true and false\n"
      ],
      "metadata": {
        "id": "eNerTqjVNmN8"
      }
    },
    {
      "cell_type": "markdown",
      "source": [
        "##2.What are the three different types of Boolean operators? \n",
        "\n",
        "Answer:AND, OR, and NOT "
      ],
      "metadata": {
        "id": "mQiUFtl8Ojpf"
      }
    },
    {
      "cell_type": "markdown",
      "source": [
        "##3.Make a list of each Boolean operator's truth tables (i.e. every possible combination of Boolean values for the operator and what it evaluate ).\n",
        "\n",
        "Answer:\n",
        "## Truth Table for or\n",
        "\n",
        "A B (A or B)\n",
        "\n",
        "T T T\n",
        "\n",
        "T F T\n",
        "\n",
        "F T T\n",
        "\n",
        "F F F\n",
        "\n",
        "\n",
        "\n",
        "\n",
        "---\n",
        "\n",
        "\n",
        "##Truth Table for and\n",
        "A B (A and B)\n",
        "\n",
        "T T T \n",
        "\n",
        "T F F\n",
        "\n",
        "F T F\n",
        "\n",
        "F F F\n",
        "\n",
        "\n",
        "\n",
        "---\n",
        "\n",
        "\n",
        "Truth Table for Not\n",
        "\n",
        "A B ~A \n",
        "\n",
        "T T F\n",
        "\n",
        "T F F\n",
        "\n"
      ],
      "metadata": {
        "id": "VzDe3S7OZEhQ"
      }
    },
    {
      "cell_type": "markdown",
      "source": [
        "##4.What do the following expressions evaluate to?\n",
        "\n",
        "(5 > 4) and (3 == 5)\n",
        "\n",
        "not (5 > 4)\n",
        "\n",
        "(5 > 4) or (3 == 5)\n",
        "\n",
        "not ((5 > 4) or (3 == 5))\n",
        "\n",
        "(True and True) and (True == False)\n",
        "\n",
        "(not False) or (not True)\n",
        "\n",
        "\n",
        "Answer -\n",
        "False\n",
        "False\n",
        "True\n",
        "False\n",
        "False\n",
        "True"
      ],
      "metadata": {
        "id": "Wl1fCPxlIAZQ"
      }
    },
    {
      "cell_type": "code",
      "source": [
        "!pip install truth-table-generator\n",
        "import ttg"
      ],
      "metadata": {
        "id": "1xMmHRfRjNaN"
      },
      "execution_count": null,
      "outputs": []
    },
    {
      "cell_type": "code",
      "source": [
        "print(ttg.Truths(['p', 'q'],['p and q'],ints=False))\n",
        "print(ttg.Truths(['p', 'q'],['p or q'],ints=False))\n",
        "print(ttg.Truths(['p', 'q'],['~p'],ints=False))"
      ],
      "metadata": {
        "colab": {
          "base_uri": "https://localhost:8080/"
        },
        "id": "RqHPrq9jgeLt",
        "outputId": "1bc8f85f-8e99-4b3c-edcd-b6a9c9305c39"
      },
      "execution_count": null,
      "outputs": [
        {
          "output_type": "stream",
          "name": "stdout",
          "text": [
            "+-----+-----+-----------+\n",
            "|  p  |  q  |  p and q  |\n",
            "|-----+-----+-----------|\n",
            "|  1  |  1  |     1     |\n",
            "|  1  |  0  |     0     |\n",
            "|  0  |  1  |     0     |\n",
            "|  0  |  0  |     0     |\n",
            "+-----+-----+-----------+\n",
            "+-----+-----+----------+\n",
            "|  p  |  q  |  p or q  |\n",
            "|-----+-----+----------|\n",
            "|  1  |  1  |    1     |\n",
            "|  1  |  0  |    1     |\n",
            "|  0  |  1  |    1     |\n",
            "|  0  |  0  |    0     |\n",
            "+-----+-----+----------+\n",
            "+-----+-----+------+\n",
            "|  p  |  q  |  ~p  |\n",
            "|-----+-----+------|\n",
            "|  1  |  1  |  0   |\n",
            "|  1  |  0  |  0   |\n",
            "|  0  |  1  |  1   |\n",
            "|  0  |  0  |  1   |\n",
            "+-----+-----+------+\n"
          ]
        }
      ]
    },
    {
      "cell_type": "markdown",
      "source": [
        "## 5.What are the six comparison operators?\n",
        "\n",
        "Answer:\n",
        "\n",
        "1)== (Equal)\n",
        "\n",
        "2)!= (Not Equal)\n",
        "\n",
        "3)> (Greater than)\n",
        "\n",
        "4)< (Less than)\n",
        "\n",
        "5)<= (Greater than equal to)\n",
        "\n",
        "6)>=(Less than equyal to)"
      ],
      "metadata": {
        "id": "qyZxZ4nuPJ2A"
      }
    },
    {
      "cell_type": "markdown",
      "source": [
        "##6.How do you tell the difference between the equal to and assignment operators?Describe a condition and when you would use one.\n",
        "\n",
        "Answer:\n",
        "\n",
        "The “=” is an assignment operator used to assign the value on the right to the variable on the left. \n",
        "Examlpe: x=3\n",
        "\n",
        "The ‘==’ operator checks whether the two given operands are equal or not. If so, it returns true. Otherwise it returns false. \n",
        "Examlpe: x==3\n"
      ],
      "metadata": {
        "id": "3T7f6iYGPJ5A"
      }
    },
    {
      "cell_type": "markdown",
      "source": [
        "##7.Identify the three blocks in this code:\n",
        "\n",
        "spam = 0\n",
        "if spam == 10:\n",
        "\n",
        "print('eggs')\n",
        "\n",
        "if spam > 5:\n",
        "\n",
        "print('bacon')\n",
        "\n",
        "else:\n",
        "print('ham')\n",
        "\n",
        "print('spam')\n",
        "\n",
        "print('spam')\n"
      ],
      "metadata": {
        "id": "zKqeElFIPJ9y"
      }
    },
    {
      "cell_type": "code",
      "source": [
        "spam = 0\n",
        "if spam == 10:\n",
        "    print('eggs')        # indent increased, block A\n",
        "    if spam > 5:         # still block A\n",
        "        print('bacon')   # still block A, indent increased, block B inside block A\n",
        "    else:                # still block A, indent decreased, block B ended in line above\n",
        "        print('ham')     # still block A, indent increased, block C inside block A\n",
        "    print('spam')        # still block A, indent decreased, block C ended in line above\n",
        "print('spam')            # indent decreased, block A ended in line above\n",
        "print(\"The three blocks are everything inside the if statement\")"
      ],
      "metadata": {
        "colab": {
          "base_uri": "https://localhost:8080/"
        },
        "id": "qEC1Kr4v0hxl",
        "outputId": "f41dafdb-9c66-4d37-9651-34c34d4d6a3c"
      },
      "execution_count": null,
      "outputs": [
        {
          "output_type": "stream",
          "name": "stdout",
          "text": [
            "spam\n",
            "The three blocks are everything inside the if statement\n"
          ]
        }
      ]
    },
    {
      "cell_type": "markdown",
      "source": [
        "8. Write code that prints Hello if 1 is stored in spam, prints Howdy if 2 is stored in spam, and prints Greetings! if anything else is stored in spam."
      ],
      "metadata": {
        "id": "xub3vOJz09sj"
      }
    },
    {
      "cell_type": "code",
      "source": [
        "spam=int(input(\"Enter the number: \"))\n",
        "if(spam==1):\n",
        "  print(\"Hello\")\n",
        "elif(spam==2):\n",
        "  print(\"Howdy\")\n",
        "else:\n",
        "  print(\"Greeting\")"
      ],
      "metadata": {
        "colab": {
          "base_uri": "https://localhost:8080/"
        },
        "id": "iMmTyiv80_pv",
        "outputId": "ca0d511e-9950-40d2-b881-a89c59443e94"
      },
      "execution_count": null,
      "outputs": [
        {
          "output_type": "stream",
          "name": "stdout",
          "text": [
            "Enter the number: 22\n",
            "Greeting\n"
          ]
        }
      ]
    },
    {
      "cell_type": "markdown",
      "source": [
        "##9.If your programme is stuck in an endless loop, what keys you’ll press?\n",
        "\n",
        "Answer:We need to press CTRL-C to stop a program\n"
      ],
      "metadata": {
        "id": "J3f7NyWT2Z4E"
      }
    },
    {
      "cell_type": "markdown",
      "source": [
        "##10.How can you tell the difference between break and continue?\n",
        "\n",
        "Answer: Break is used for immediate termination of loop. On the other hand, ‘continue’ terminate the current iteration and resumes the control to the next iteration of the loop."
      ],
      "metadata": {
        "id": "CYQ-X6k4_2Lj"
      }
    },
    {
      "cell_type": "markdown",
      "source": [
        "##11.In a for loop, what is the difference between range(10), range(0, 10), and range(0, 10, 1)?\n",
        "\n",
        "Answer:\n",
        "\n",
        "range(10) means it will loop from 0 to 9.\n",
        "\n",
        "range(0,10) means it start from 0 and end with 9.\n",
        "\n",
        "range(0,10,1) means  explicitly tells the loop to increase the variable by 1 on each iteration."
      ],
      "metadata": {
        "id": "pURuGt1XAOpM"
      }
    },
    {
      "cell_type": "code",
      "source": [
        "for i in range(10):\n",
        "    print(i, end=\"\")"
      ],
      "metadata": {
        "id": "ULTgITpPB-3u",
        "outputId": "69d1d22d-f59c-4d5b-a1fd-43cef3815c89",
        "colab": {
          "base_uri": "https://localhost:8080/"
        }
      },
      "execution_count": 4,
      "outputs": [
        {
          "output_type": "stream",
          "name": "stdout",
          "text": [
            "0123456789"
          ]
        }
      ]
    },
    {
      "cell_type": "code",
      "source": [
        "for i in range(0, 10,1):\n",
        "    print(i, end=\"\")"
      ],
      "metadata": {
        "id": "XO7BjpdkE5YZ",
        "outputId": "c7b717ff-70e3-40db-a424-7a81b2da137e",
        "colab": {
          "base_uri": "https://localhost:8080/"
        }
      },
      "execution_count": 3,
      "outputs": [
        {
          "output_type": "stream",
          "name": "stdout",
          "text": [
            "0123456789"
          ]
        }
      ]
    },
    {
      "cell_type": "code",
      "source": [
        "for i in range(0, 10):\n",
        "    print(i, end=\" \")"
      ],
      "metadata": {
        "id": "QB_0Vwb2E1sc",
        "outputId": "85eaa28e-efc5-4fc9-a009-b8172e708c38",
        "colab": {
          "base_uri": "https://localhost:8080/"
        }
      },
      "execution_count": 2,
      "outputs": [
        {
          "output_type": "stream",
          "name": "stdout",
          "text": [
            "0 1 2 3 4 5 6 7 8 9 "
          ]
        }
      ]
    },
    {
      "cell_type": "markdown",
      "source": [
        "##12.Write a short program that prints the numbers 1 to 10 using a for loop. Then write an equivalent program that prints the numbers 1 to 10 using a while loop"
      ],
      "metadata": {
        "id": "gZe4FPcKFKwi"
      }
    },
    {
      "cell_type": "code",
      "source": [
        "for i in range(1, 12):\n",
        "    print(i, end=\" \")"
      ],
      "metadata": {
        "colab": {
          "base_uri": "https://localhost:8080/"
        },
        "id": "ZKnBElVWFIOK",
        "outputId": "85c3a511-dbc9-4f81-c678-77b0b64fc377"
      },
      "execution_count": null,
      "outputs": [
        {
          "output_type": "stream",
          "name": "stdout",
          "text": [
            "1 2 3 4 5 6 7 8 9 10 11 "
          ]
        }
      ]
    },
    {
      "cell_type": "code",
      "source": [
        "i = 1\n",
        "while i <=10:\n",
        "  print(i)\n",
        "  i += 1"
      ],
      "metadata": {
        "id": "yY8nSyBRFeqB",
        "outputId": "35d9352a-0692-4b27-f30e-388c370ee826",
        "colab": {
          "base_uri": "https://localhost:8080/"
        }
      },
      "execution_count": null,
      "outputs": [
        {
          "output_type": "stream",
          "name": "stdout",
          "text": [
            "1\n",
            "2\n",
            "3\n",
            "4\n",
            "5\n",
            "6\n",
            "7\n",
            "8\n",
            "9\n",
            "10\n"
          ]
        }
      ]
    },
    {
      "cell_type": "markdown",
      "source": [
        "##13.If you had a function named bacon() inside a module named spam, how would you call it after importing spam?\n",
        "\n",
        "Answer:\n",
        "\n",
        "This function can be called with spam.bacon().\n"
      ],
      "metadata": {
        "id": "qag8a1dLF2tN"
      }
    }
  ]
}